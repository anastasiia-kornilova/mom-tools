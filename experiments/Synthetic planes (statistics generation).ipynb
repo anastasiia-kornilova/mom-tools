{
 "cells": [
  {
   "cell_type": "code",
   "execution_count": 1,
   "metadata": {},
   "outputs": [],
   "source": [
    "import copy\n",
    "import numpy as np\n",
    "import open3d as o3d\n",
    "import pickle\n",
    "import scipy.spatial\n",
    "\n",
    "import sys\n",
    "sys.path.insert(1, '../src/')\n",
    "import metrics\n",
    "from plane_env_utils import generate_planes"
   ]
  },
  {
   "cell_type": "code",
   "execution_count": 2,
   "metadata": {},
   "outputs": [],
   "source": [
    "def trajectory_perturbation(Ts, cov=0.1):\n",
    "    Ts_noise = []\n",
    "    for T in Ts:\n",
    "        T_noised = copy.deepcopy(T)\n",
    "        T_noised[:3, 3] += [np.random.normal(0, cov), np.random.normal(0, cov), \n",
    "                            np.random.normal(0, cov)]\n",
    "        Ts_noise.append(T_noised)\n",
    "    return Ts_noise\n",
    "\n",
    "def get_map(pcs, Ts):\n",
    "    pc_map = o3d.geometry.PointCloud()\n",
    "    for i, pc in enumerate(pcs):\n",
    "        pc_map += copy.deepcopy(pc).transform(Ts[i])\n",
    "        \n",
    "    return pc_map\n",
    "\n",
    "def sampling_pipeline(pcs, T_gt, nr_metrics, fr_metric, map_tips=None):\n",
    "    cov_scaler = 20\n",
    "    N_samples = 40\n",
    "\n",
    "    nrs = [[] for _ in range(len(nr_metrics))]\n",
    "    fr = []\n",
    "    for i in range(cov_scaler):\n",
    "        for j in range(N_samples):\n",
    "            T_pert = trajectory_perturbation(T_gt, cov = 0.02 * (i + 1) / len(pcs))\n",
    "            pc_map = get_map(pcs, T_pert)\n",
    "            fr.append(fr_metric(T_gt, T_pert))\n",
    "            for metric_id, metric in enumerate(nr_metrics):\n",
    "                nrs[metric_id].append(metric(pc_map, map_tips))\n",
    "\n",
    "    return nrs, fr"
   ]
  },
  {
   "cell_type": "code",
   "execution_count": null,
   "metadata": {},
   "outputs": [],
   "source": [
    "%%time\n",
    "def generate_stat(i):\n",
    "    N_poses = 5\n",
    "    T_gt = [np.eye(4) for _ in range(N_poses)]\n",
    "\n",
    "    pcs, orth = generate_planes(N_poses)\n",
    "    tips = {}\n",
    "    tips['orth_list'] = orth\n",
    "\n",
    "    tips['orth_normals'] = []\n",
    "    for plane in orth:\n",
    "        pc = o3d.geometry.PointCloud()\n",
    "        pc.points = o3d.utility.Vector3dVector(plane)\n",
    "        pc.estimate_normals(search_param=o3d.geometry.KDTreeSearchParamHybrid(radius=1, max_nn=30))\n",
    "        tips['orth_normals'].append(np.asarray(pc.normals))\n",
    "\n",
    "    nr_metrics = [metrics.mean_map_entropy, metrics.mean_plane_variance, \n",
    "                  metrics.orth_mme, metrics.orth_mpv]\n",
    "    nrs, fr = sampling_pipeline(pcs, T_gt, nr_metrics, metrics.rpe, tips)\n",
    "    save_dict = {}\n",
    "    save_dict['nrs'] = nrs\n",
    "    save_dict['fr'] = fr\n",
    "\n",
    "    with open(str(i) + '-5-density-r.pkl', 'wb') as sfile:\n",
    "        pickle.dump(save_dict, sfile)\n",
    "\n",
    "    with open(str(i) + '-5-density-r-pcs.pkl', 'wb') as sfile_1:\n",
    "        pickle.dump(np.asarray(get_map(pcs, T_gt).points), sfile_1)\n",
    "\n",
    "    with open(str(i) + '-5-density-r-orth.pkl', 'wb') as sfile_2:\n",
    "        pickle.dump(orth, sfile_2)\n",
    "\n",
    "from multiprocessing import Pool\n",
    "\n",
    "with Pool() as pool:\n",
    "    pool.map(generate_stat, np.arange(0, 10))"
   ]
  }
 ],
 "metadata": {
  "kernelspec": {
   "display_name": "Python 3",
   "language": "python",
   "name": "python3"
  },
  "language_info": {
   "codemirror_mode": {
    "name": "ipython",
    "version": 3
   },
   "file_extension": ".py",
   "mimetype": "text/x-python",
   "name": "python",
   "nbconvert_exporter": "python",
   "pygments_lexer": "ipython3",
   "version": "3.6.12"
  }
 },
 "nbformat": 4,
 "nbformat_minor": 4
}
